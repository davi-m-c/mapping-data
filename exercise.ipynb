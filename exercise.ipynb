{
 "cells": [
  {
   "attachments": {},
   "cell_type": "markdown",
   "metadata": {},
   "source": [
    "## Using Pandas\n",
    "Alternatively, you can use the Pandas library to load the CSV file and then extract the data. You'll need to install the Pandas library first. You can do this with the following command:\n",
    "\n",
    "```bash\n",
    "pip install pandas\n",
    "```\n",
    "\n",
    "Then, you can use the following code to load the CSV file and extract the data:\n",
    "\n",
    "```python\n",
    "import pandas as pd\n",
    "\n",
    "df = pd.read_csv('sample_data/wine-ratings-small.csv')\n",
    "df.head()\n",
    "```"
   ]
  },
  {
   "cell_type": "code",
   "execution_count": 2,
   "metadata": {},
   "outputs": [
    {
     "data": {
      "text/html": [
       "<div>\n",
       "<style scoped>\n",
       "    .dataframe tbody tr th:only-of-type {\n",
       "        vertical-align: middle;\n",
       "    }\n",
       "\n",
       "    .dataframe tbody tr th {\n",
       "        vertical-align: top;\n",
       "    }\n",
       "\n",
       "    .dataframe thead th {\n",
       "        text-align: right;\n",
       "    }\n",
       "</style>\n",
       "<table border=\"1\" class=\"dataframe\">\n",
       "  <thead>\n",
       "    <tr style=\"text-align: right;\">\n",
       "      <th></th>\n",
       "      <th>name</th>\n",
       "      <th>grape</th>\n",
       "      <th>region</th>\n",
       "      <th>variety</th>\n",
       "      <th>rating</th>\n",
       "      <th>notes</th>\n",
       "    </tr>\n",
       "  </thead>\n",
       "  <tbody>\n",
       "    <tr>\n",
       "      <th>0</th>\n",
       "      <td>Laurenz V Charming Gruner Veltliner 2013</td>\n",
       "      <td>NaN</td>\n",
       "      <td>Kamptal, Austria</td>\n",
       "      <td>White Wine</td>\n",
       "      <td>90.0</td>\n",
       "      <td>Aromas of ripe apples and a typical Veltliner ...</td>\n",
       "    </tr>\n",
       "    <tr>\n",
       "      <th>1</th>\n",
       "      <td>Laurenz V Charming Gruner Veltliner 2014</td>\n",
       "      <td>NaN</td>\n",
       "      <td>Kamptal, Austria</td>\n",
       "      <td>White Wine</td>\n",
       "      <td>90.0</td>\n",
       "      <td>Aromas of ripe apples and a typical Veltliner ...</td>\n",
       "    </tr>\n",
       "    <tr>\n",
       "      <th>2</th>\n",
       "      <td>Laurenz V Singing Gruner Veltliner 2007</td>\n",
       "      <td>NaN</td>\n",
       "      <td>Austria</td>\n",
       "      <td>White Wine</td>\n",
       "      <td>90.0</td>\n",
       "      <td>A very attractive fruit bouquet yields apple, ...</td>\n",
       "    </tr>\n",
       "    <tr>\n",
       "      <th>3</th>\n",
       "      <td>Laurenz V Singing Gruner Veltliner 2010</td>\n",
       "      <td>NaN</td>\n",
       "      <td>Austria</td>\n",
       "      <td>White Wine</td>\n",
       "      <td>88.0</td>\n",
       "      <td>A very attractive fruit bouquet yields apple, ...</td>\n",
       "    </tr>\n",
       "    <tr>\n",
       "      <th>4</th>\n",
       "      <td>Laurenz V Singing Gruner Veltliner 2011</td>\n",
       "      <td>NaN</td>\n",
       "      <td>Austria</td>\n",
       "      <td>White Wine</td>\n",
       "      <td>88.0</td>\n",
       "      <td>A very attractive fruit bouquet yields apple, ...</td>\n",
       "    </tr>\n",
       "  </tbody>\n",
       "</table>\n",
       "</div>"
      ],
      "text/plain": [
       "                                       name  grape            region  \\\n",
       "0  Laurenz V Charming Gruner Veltliner 2013    NaN  Kamptal, Austria   \n",
       "1  Laurenz V Charming Gruner Veltliner 2014    NaN  Kamptal, Austria   \n",
       "2   Laurenz V Singing Gruner Veltliner 2007    NaN           Austria   \n",
       "3   Laurenz V Singing Gruner Veltliner 2010    NaN           Austria   \n",
       "4   Laurenz V Singing Gruner Veltliner 2011    NaN           Austria   \n",
       "\n",
       "      variety  rating                                              notes  \n",
       "0  White Wine    90.0  Aromas of ripe apples and a typical Veltliner ...  \n",
       "1  White Wine    90.0  Aromas of ripe apples and a typical Veltliner ...  \n",
       "2  White Wine    90.0  A very attractive fruit bouquet yields apple, ...  \n",
       "3  White Wine    88.0  A very attractive fruit bouquet yields apple, ...  \n",
       "4  White Wine    88.0  A very attractive fruit bouquet yields apple, ...  "
      ]
     },
     "execution_count": 2,
     "metadata": {},
     "output_type": "execute_result"
    }
   ],
   "source": [
    "import pandas as pd\n",
    "df = pd.read_csv(\"sample_data/wine-ratings-small.csv\", index_col=0) # read the csv file and set the index column to 0\n",
    "df.head() # show the first 5 rows of the dataframe\n"
   ]
  },
  {
   "attachments": {},
   "cell_type": "markdown",
   "metadata": {},
   "source": [
    "## Manipulate data with Pandas or as a dictionary\n",
    "At this point, you can use Pandas if you know how to use it. Otherwise, you can use the data as a dictionary. You can use the following code to extract the data:\n",
    "\n",
    "```python\n",
    "data = df.to_dict()\n",
    "```"
   ]
  },
  {
   "cell_type": "code",
   "execution_count": 7,
   "metadata": {},
   "outputs": [
    {
     "name": "stdout",
     "output_type": "stream",
     "text": [
      "Best Ratings:\n",
      "L'Aventure Chloe 2014 97.0\n",
      "L'Aventure Estate Cuvee 2004 98.0\n",
      "L'Aventure Estate Cuvee 2006 97.0\n",
      "L'Aventure Estate Cuvee 2013 97.0\n",
      "L'Aventure Estate Cuvee 2012 98.0\n",
      "L'Aventure Estate Cuvee 2014 98.0\n",
      "L'Aventure Estate Cuvee 2016 99.0\n",
      "Le Dome 2016 98.0\n",
      "Leeuwin Estate Art Series Chardonnay 2001 98.0\n",
      "Leonetti Reserve 2005 97.0\n",
      "Lewelling Wight Vineyard Cabernet Sauvignon 2008 98.0\n",
      "Lewelling Wight Vineyard Cabernet Sauvignon 2007 98.0\n",
      "[\"L'Aventure Cabernet Sauvignon 2006\", \"L'Aventure Chloe 2014\", \"L'Aventure Cote A Cote (slightly stained labels) 2012\", \"L'Aventure Cote A Cote 2006\", \"L'Aventure Cote A Cote 2007\", \"L'Aventure Cote A Cote 2010\", \"L'Aventure Cote A Cote 2011\", \"L'Aventure Cote A Cote 2014\", \"L'Aventure Estate Cuvee (1.5 Liter Magnum) 2008\", \"L'Aventure Estate Cuvee 2004\", \"L'Aventure Estate Cuvee 2005\", \"L'Aventure Estate Cuvee 2006\", \"L'Aventure Estate Cuvee 2007\", \"L'Aventure Estate Cuvee 2008\", \"L'Aventure Estate Cuvee 2010\", \"L'Aventure Estate Cuvee 2011\", \"L'Aventure Estate Cuvee 2012\", \"L'Aventure Estate Cuvee 2013\", \"L'Aventure Estate Cuvee 2014\", \"L'Aventure Estate Cuvee 2016\", \"L'Aventure Optimus (1.5 Liter Magnum) 2012\", \"L'Aventure Optimus 2005\", \"L'Aventure Optimus 2007\", \"L'Aventure Optimus 2008\", \"L'Aventure Optimus 2011\", \"L'Aventure Optimus 2012\", \"L'Aventure Optimus 2015\", \"L'Aventure Optimus 2016\", \"L'Aventure Optimus 2017\", \"L'Ecole 41 Columbia Valley Cabernet Sauvignon 2007\", \"L'Ecole 41 Columbia Valley Cabernet Sauvignon 2011\", \"L'Ecole 41 Columbia Valley Cabernet Sauvignon 2012\", \"L'Ecole 41 Columbia Valley Cabernet Sauvignon 2015\", \"L'Ecole 41 Columbia Valley Merlot 2000\", \"L'Ecole 41 Columbia Valley Merlot 2003\", \"L'Ecole 41 Columbia Valley Merlot 2004\", \"L'Ecole 41 Columbia Valley Merlot 2005\", \"L'Ecole 41 Columbia Valley Merlot 2006\", \"L'Ecole 41 Columbia Valley Merlot 2007\", \"L'Ecole 41 Columbia Valley Merlot 2008\", \"L'Ecole 41 Columbia Valley Merlot 2010\", \"L'Ecole 41 Columbia Valley Merlot 2011\", \"L'Ecole 41 Columbia Valley Merlot 2012\", \"L'Ecole 41 Columbia Valley Merlot 2013\", \"L'Ecole 41 Columbia Valley Merlot 2014\", \"L'Ecole 41 Columbia Valley Merlot 2016\", \"L'Ecole 41 Columbia Valley Syrah 2012\", \"L'Ecole 41 Columbia Valley Syrah 2013\", \"L'Ecole 41 Columbia Valley Syrah 2014\", \"L'Ecole 41 Columbia Valley Syrah 2015\", \"L'Ecole 41 Columbia Valley Syrah 2016\", \"L'Ecole 41 Ferguson Estate Red 2012\", \"L'Ecole 41 Ferguson Estate Red 2013\", \"L'Ecole 41 Ferguson Estate Red 2014\", \"L'Ecole 41 Ferguson Estate Red 2017\", \"L'Ecole 41 Pepper Bridge Vineyard Apogee 2001\", \"L'Ecole 41 Pepper Bridge Vineyard Apogee 2006\", \"L'Ecole 41 Pepper Bridge Vineyard Apogee 2007\", \"L'Ecole 41 Pepper Bridge Vineyard Apogee 2008\", \"L'Ecole 41 Pepper Bridge Vineyard Apogee 2012\", \"L'Ecole 41 Pepper Bridge Vineyard Apogee 2013\", \"L'Ecole 41 Pepper Bridge Vineyard Apogee 2014\", \"L'Ecole 41 Seven Hills Vineyard Estate Syrah 2001\", \"L'Ecole 41 Seven Hills Vineyard Estate Syrah 2011\", \"L'Ecole 41 Seven Hills Vineyard Estate Syrah 2014\", \"L'Ecole 41 Seven Hills Vineyard Estate Syrah 2015\", \"L'Ecole 41 Seven Hills Vineyard Merlot 2000\", \"L'Ecole 41 Seven Hills Vineyard Merlot 2001\", \"L'Ecole 41 Seven Hills Vineyard Merlot 2002\", \"L'Ecole 41 Seven Hills Vineyard Merlot 2005\", \"L'Ecole 41 Seven Hills Vineyard Merlot 2007\", \"L'Ecole 41 Seven Hills Vineyard Perigee 2002\", \"L'Ecole 41 Seven Hills Vineyard Perigee 2007\", \"L'Ecole 41 Seven Hills Vineyard Perigee 2011\", \"L'Ecole 41 Seven Hills Vineyard Perigee 2012\", \"L'Ecole 41 Seven Hills Vineyard Perigee 2013\", \"L'Ecole 41 Seven Hills Vineyard Perigee 2014\", \"L'Ecole 41 Seven Hills Vineyard Perigee 2015\", \"L'Ecole 41 Walla Walla Valley Cabernet Sauvignon 1998\", \"L'Ecole 41 Walla Walla Valley Cabernet Sauvignon 2000\", \"L'Ecole 41 Walla Walla Valley Cabernet Sauvignon 2001\", \"L'Ecole 41 Walla Walla Valley Cabernet Sauvignon 2007\", \"L'Ecole 41 Walla Walla Valley Cabernet Sauvignon 2009\", \"L'Ecole 41 Walla Walla Valley Cabernet Sauvignon 2010\", \"L'Ecole 41 Walla Walla Valley Cabernet Sauvignon 2011\", \"L'Ecole 41 Walla Walla Valley Cabernet Sauvignon 2012\", \"L'Ecole 41 Walla Walla Valley Cabernet Sauvignon 2013\", \"L'Ecole 41 Walla Walla Valley Cabernet Sauvignon 2014\", \"L'Ecole 41 Walla Walla Valley Cabernet Sauvignon 2016\", \"L'Ecole 41 Walla Walla Valley Syrah 2003\", \"L'Ecole 41 Walla Walla Valley Syrah 2004\", \"L'Esprit de Chevalier Pessac Leognan 2000\", 'Lava Cap American River Red', 'Lava Cap Barbera 2010', 'Lava Cap Cabernet Sauvignon 2013', 'Lava Cap Cabernet Sauvignon 2016', 'Lava Cap Petite Sirah 2013', 'Lava Cap Petite Sirah 2014', 'Lava Cap Petite Sirah 2016', 'Lava Cap Reserve Merlot 2015', 'Lava Cap Syrah 2009', 'Lava Cap Syrah 2013', 'Lava Cap Syrah 2014', 'Lava Vine Winery Knights Valley Reserve Cabernet Sauvignon 2013', 'Lava Vine Winery Napa Valley Cabernet Sauvignon 2014', 'Lava Vine Winery Napa Valley Reserve Cabernet Sauvignon 2012', 'Lava Vine Winery Napa Valley Reserve Cabernet Sauvignon 2013', 'Lavau Chateauneuf-du-Pape 2014', 'Lavau Chateauneuf-du-Pape 2015', 'Lavau Chateauneuf-du-Pape 2016', 'Lavau Gigondas 2013', 'Lavau Gigondas 2014', 'Lavau Gigondas 2015', 'Lavau Gigondas 2016', 'Lavau Rasteau 2015', 'Lavau Rasteau 2016', 'Lavinea Elton Pinot Noir 2016', 'Lavinea Lazy River Pinot Noir 2016', 'Lavinea Nysa Pinot Noir 2016', 'Lavinea Tualatin Pinot Noir 2016', 'Lavinea Tualatin Pinot Noir 2017', 'Lavradores de Feitoria Tres Bagos 2003', 'Lavradores de Feitoria Tres Bagos 2004', 'Law Estate Wines Audacious 2016', 'Law Estate Wines Sagacious 2016', \"Lawson's Dry Hills Pinot Noir 2005\", 'Layer Cake Cabernet Sauvignon 2010', 'Layer Cake Garnacha 2011', 'Layer Cake Malbec 2008', 'Layer Cake Primitivo aka Zinfandel 2008', 'Layer Cake Shiraz 2008', 'Layer Cake Shiraz 2009', 'Layer Cake Shiraz 2010', 'Layer Cake Shiraz 2013', 'Layer Cake Shiraz 2014', 'Le Berne Vino Nobile di Montepulciano 2011', 'Le Bonheur Cabernet Sauvignon 1997', 'Le Cadeau Vineyard Diversite Pinot Noir 2014', 'Le Cadeau Vineyard Diversite Pinot Noir 2015', 'Le Cadeau Vineyard Rocheux Pinot Noir 2015', 'Le Cadeau Vineyard Rocheux Pinot Noir 2016', 'Le Cadeau Vineyard Rocheux Reserve Pinot Noir 2014', 'Le Carre 2007', 'Le Carre 2008', 'Le Carre 2009', 'Le Carre 2010', 'Le Carre 2011', 'Le Carre 2012', 'Le Casematte Faro 2013', 'Le Casematte Faro 2014', 'Le Casematte Faro 2016', \"Le Casematte Nero d'Avola 2015\", 'Le Casematte Peloro Rosso 2014', 'Le Casematte Peloro Rosso 2015', 'Le Casematte Peloro Rosso 2017', 'Le Charmel Rhone Blend 2011', 'Le Chiuse Brunello di Montalcino (375ML half-bottle) 2011', 'Le Chiuse Brunello di Montalcino (375ML half-bottle) 2012', 'Le Chiuse Brunello di Montalcino (375ML half-bottle) 2013', 'Le Chiuse Brunello di Montalcino 2008', 'Le Chiuse Brunello di Montalcino 2010', 'Le Chiuse Brunello di Montalcino 2011', 'Le Chiuse Brunello di Montalcino 2012', 'Le Chiuse Brunello di Montalcino 2013', 'Le Chiuse Brunello di Montalcino 2015', 'Le Chiuse Brunello di Montalcino Riserva 2006', 'Le Chiuse Brunello di Montalcino Riserva 2009', 'Le Chiuse Rosso di Montalcino 2015', 'Le Chiuse Rosso di Montalcino 2017', 'Le Cirque Rouge 2014', \"Le Clos d'un Jour Un Jour sur Terre Cahors 2005\", 'Le Corti Chianti Classico 2011', 'Le Corti Chianti Classico 2012', 'Le Corti Chianti Classico 2013', 'Le Corti Chianti Classico 2016', 'Le Corti Don Tommaso Chianti Classico 2007', 'Le Corti Don Tommaso Chianti Classico 2008', 'Le Corti Don Tommaso Chianti Classico 2009', 'Le Corti Don Tommaso Chianti Classico 2013', 'Le Corti Don Tommaso Chianti Classico 2014', 'Le Corti Tenuta Birillo Rosso 2010', 'Le Dome 2006', 'Le Dome 2008', 'Le Dome 2009', 'Le Dome 2010', 'Le Dome 2011', 'Le Dome 2012', 'Le Dome 2014', 'Le Dome 2016', 'Le Fonti Chianti Classico 2009', 'Le Jas des Papes Chateauneuf-du-Pape 2010', 'Le Macchiole (1.5 Liter Magnum) 2013', 'Le Macchiole 1999', 'Le Macchiole 2005', 'Le Macchiole 2006', 'Le Macchiole 2008', 'Le Macchiole 2009', 'Le Macchiole 2010', 'Le Macchiole 2012', 'Le Macchiole 2013', 'Le Macchiole Messorio (1.5 Liter Magnum) 2010', 'Le Macchiole Messorio 2000', 'Le Macchiole Messorio 2002', 'Le Macchiole Messorio 2003', 'Le Macchiole Messorio 2005', 'Le Macchiole Messorio 2007', 'Le Macchiole Messorio 2009', 'Le Macchiole Messorio 2010', 'Le Macchiole Messorio 2011', 'Le Macchiole Messorio 2012', 'Le Macchiole Messorio 2013', 'Le Macchiole Messorio 2014', 'Le Macchiole Paleo (1.5 Liter Magnum) 2007', 'Le Macchiole Paleo (1.5 Liter Magnum) 2009', 'Le Macchiole Paleo (1.5 Liter Magnum) 2011', 'Le Macchiole Paleo (3 Liter Bottle) 2011', 'Le Macchiole Paleo 1998', 'Le Macchiole Paleo 2001', 'Le Macchiole Paleo 2003', 'Le Macchiole Paleo 2004', 'Le Macchiole Paleo 2005', 'Le Macchiole Paleo 2007', 'Le Macchiole Paleo 2008', 'Le Macchiole Paleo 2009', 'Le Macchiole Paleo 2010', 'Le Macchiole Paleo 2011', 'Le Macchiole Paleo 2012', 'Le Macchiole Paleo 2013', 'Le Macchiole Paleo 2014', 'Le Macchiole Scrio 2001', 'Le Macchiole Scrio 2004', 'Le Macchiole Scrio 2005', 'Le Macchiole Scrio 2006', 'Le Macchiole Scrio 2010', 'Le Macchiole Scrio 2011', 'Le Macchiole Scrio 2012', 'Le Macchiole Scrio 2013', 'Le Macchiole Scrio 2015', 'Le Mistral 2008', \"Le P'tit Paysan La Marea Grenache 2013\", \"Le P'tit Paysan Le P'tit Pape 2011\", \"Le P'tit Paysan Le P'tit Pape 2012\", \"Le P'tit Paysan Le P'tit Pape 2013\", \"Le P'tit Paysan Le P'tit Pape 2014\", \"Le P'tit Paysan Le P'tit Pape 2015\", \"Le P'tit Paysan Le P'tit Pape 2016\", \"Le P'tit Paysan Le P'tit Pape 2017\", \"Le P'tit Paysan Petite Sirah 2011\", \"Le P'tit Paysan Petite Sirah 2013\", 'Le Paradou Grenache 2012', 'Le Potazzine Gorelli Brunello di Montalcino 1997', 'Le Potazzine Gorelli Brunello di Montalcino 2008', 'Le Potazzine Gorelli Brunello di Montalcino 2009', 'Le Potazzine Gorelli Brunello di Montalcino 2010', 'Le Potazzine Gorelli Brunello di Montalcino 2011', 'Le Potazzine Gorelli Brunello di Montalcino 2012', 'Le Potazzine Gorelli Brunello di Montalcino 2013', 'Le Potazzine Rosso di Montalcino 2012', 'Le Potazzine Rosso di Montalcino 2014', 'Le Potazzine Rosso di Montalcino 2015', 'Le Potazzine Rosso di Montalcino 2017', 'Le Ragnaie Brunello di Montalcino 2010', 'Le Ragose Amarone Della Valpolicella 2004', 'Le Ragose Amarone Della Valpolicella 2005', 'Le Salette Amarone Classico 2011', 'Le Salette Amarone Classico 2012', 'Le Salette Amarone Classico 2013', 'Le Salette La Marega Amarone 2011', 'Le Salette La Marega Amarone 2012', 'Le Salette La Marega Amarone 2013', 'Le Salette Pergole Vece Amarone 2008', 'Le Salette Pergole Vece Amarone 2011', 'Le Salette Pergole Vece Amarone 2012', 'Le Salette Pergole Vece Amarone 2015', 'Le Salette Valpolicella Classico 2012', 'Le Terrazze Rosso Conero 2009', 'Le Vieux Donjon Chateauneuf-du-Pape (1.5 Liter Magnum) 2003', 'Le Vieux Donjon Chateauneuf-du-Pape (1.5 Liter Magnum) 2005', 'Le Vieux Donjon Chateauneuf-du-Pape (1.5 Liter Magnum) 2012', 'Le Vieux Donjon Chateauneuf-du-Pape (1.5 Liter Magnum) 2015', 'Le Vieux Donjon Chateauneuf-du-Pape (375ML half-bottle) 2006', 'Le Vieux Donjon Chateauneuf-du-Pape (375ML half-bottle) 2012', 'Le Vieux Donjon Chateauneuf-du-Pape 2001', 'Le Vieux Donjon Chateauneuf-du-Pape 2003', 'Le Vieux Donjon Chateauneuf-du-Pape 2006', 'Le Vieux Donjon Chateauneuf-du-Pape 2007', 'Le Vieux Donjon Chateauneuf-du-Pape 2012', 'Le Vieux Donjon Chateauneuf-du-Pape 2013', 'Le Vieux Donjon Chateauneuf-du-Pape 2016', 'Le Vigne Winery Paso Robles Cabernet Sauvignon 2016', 'Le Vigne di Eli Etna Rosso 2012', 'Le Vigne di Eli Moganazzi-Volta Sciara Etna Rosso 2014', 'Le Vigne di Eli Moganazzi-Volta Sciara Etna Rosso 2016', 'Lea Wines Sta. Rita Hills Pinot Noir 2013', 'Lea Wines Sta. Rita Hills Pinot Noir 2014', 'Leaping Lizard Cabernet Sauvignon 2007', 'Leasingham Bin 61 Shiraz 1997', 'Leasingham Bin 61 Shiraz 1998', 'Leasingham Bin 61 Shiraz 1999', 'Leasingham Bin 61 Shiraz 2000', 'Leasingham Bin 61 Shiraz 2001', 'Leasingham Bin 61 Shiraz 2002', 'Leasingham Clare Classic Cabernet Sauvignon 1997', 'Leasingham Clare Classic Shiraz 1997', 'Leasingham Clare Classic Shiraz 1998', 'Leasingham Clare Classic Shiraz 2001', 'Leasingham Clare Valley Bin 56 Cabernet Sauvignon 1999', 'Lecheneaut Gevrey-Chambertin 2014', 'Lecheneaut Gevrey-Chambertin 2015', 'Lecheneaut Morey-Saint-Denis 2012', 'Lecheneaut Morey-Saint-Denis 2016', 'Lecheneaut Morey-St-Denis 2014', 'Lecheneaut Morey-St-Denis 2015', 'Lecheneaut Nuits-St-Georges Les Pruliers Premier Cru 2015', 'Lecheneaut Nuits-St. Georges 2014', 'Lecheneaut Nuits-St. Georges 2015', 'Lecheneaut Nuits-St. Georges Damodes Premier Cru 2011', 'Lecheneaut Nuits-St. Georges Damodes Premier Cru 2014', 'Lecheneaut Nuits-St. Georges Damodes Premier Cru 2015', 'Lecheneaut Nuits-St. Georges Damodes Premier Cru 2016', 'Ledge Catacombs Red Blend 2011', 'Ledge Vineyard Drive Red Blend 2012', 'Leese-Fitch Cabernet Sauvignon 2015', 'Leese-Fitch Cabernet Sauvignon 2016', 'Leese-Fitch Pinot Noir 2016', 'Leese-Fitch Zinfandel 2016', 'Leeuwin Estate Art Series Cabernet Sauvignon 1997', 'Leeuwin Estate Art Series Cabernet Sauvignon 1998', 'Leeuwin Estate Art Series Cabernet Sauvignon 1999', 'Leeuwin Estate Art Series Cabernet Sauvignon 2001', 'Leeuwin Estate Art Series Cabernet Sauvignon 2002', 'Leeuwin Estate Art Series Cabernet Sauvignon 2003', 'Leeuwin Estate Art Series Cabernet Sauvignon 2005', 'Leeuwin Estate Art Series Cabernet Sauvignon 2006', 'Leeuwin Estate Art Series Cabernet Sauvignon 2007', 'Leeuwin Estate Art Series Cabernet Sauvignon 2008', 'Leeuwin Estate Art Series Cabernet Sauvignon 2009', 'Leeuwin Estate Art Series Cabernet Sauvignon 2010', 'Leeuwin Estate Art Series Cabernet Sauvignon 2011', 'Leeuwin Estate Art Series Cabernet Sauvignon 2012', 'Leeuwin Estate Art Series Cabernet Sauvignon 2013', 'Leeuwin Estate Art Series Cabernet Sauvignon 2015', 'Leeuwin Estate Art Series Shiraz 1999', 'Leeuwin Estate Art Series Shiraz 2000', 'Leeuwin Estate Art Series Shiraz 2007', 'Leeuwin Estate Art Series Shiraz 2009', 'Leeuwin Estate Art Series Shiraz 2010', 'Leeuwin Estate Art Series Shiraz 2011', 'Leeuwin Estate Art Series Shiraz 2012', 'Leeuwin Estate Art Series Shiraz 2013', 'Leeuwin Estate Art Series Shiraz 2014', 'Leeuwin Estate Prelude Cabernet Merlot (stained label) 1997', 'Leeuwin Estate Prelude Vineyards Cabernet Sauvignon 2013', 'Leeuwin Estate Prelude Vineyards Cabernet Sauvignon 2014', 'Leeuwin Estate Siblings Shiraz 2003', 'Leeuwin Estate Siblings Shiraz 2004', 'Leeuwin Estate Siblings Shiraz 2007', 'Leeuwin Estate Siblings Shiraz 2012', 'Leeuwin Estate Siblings Shiraz 2013', 'Leeuwin Estate Siblings Shiraz 2014', \"Left Coast Cellars Cali's Cuvee Pinot Noir 2006\", \"Left Coast Cellars Cali's Cuvee Pinot Noir 2013\", \"Left Coast Cellars Cali's Cuvee Pinot Noir 2014\", \"Left Coast Cellars Cali's Cuvee Pinot Noir 2016\", 'Left Coast Cellars Latitude 45 Pinot Noir 2014', 'Legacy Red 2013', 'Legaris Crianza 2005', 'Legaris Crianza 2009', 'Legaris Crianza 2010', 'Legaris Crianza 2012', 'Lemelson Jerome Reserve Pinot Noir 2012', 'Lemelson Meyer Vineyard Pinot Noir 2012', 'Lemelson Meyer Vineyard Pinot Noir 2015', 'Lemelson Stermer Vineyard Pinot Noir 2014', \"Lemelson Thea's Select Pinot Noir 2000\", \"Lemelson Thea's Select Pinot Noir 2006\", \"Lemelson Thea's Select Pinot Noir 2012\", \"Lemelson Thea's Select Pinot Noir 2014\", \"Lemelson Thea's Select Pinot Noir 2015\", 'Lengs and Cooter Shiraz The Victor 2005', 'Lengs and Cooter Shiraz The Victor 2006', 'Lengs and Cooter The Victor 2002', 'Leo Steen Ascona Vineyard Cabernet Franc 2017', 'Leo Steen Provisor Vineyard Grenache 2015', 'Leo Steen Provisor Vineyard Grenache 2016', 'Leo Steen Scala Vineyard Syrah 2013', 'Leone de Castris Primitivo di Manduria Villa Santera 2009', 'Leone de Castris Salice Salentino Riserva 2006', 'Leone de Castris Salice Salentino Riserva 2007', 'Leone de Castris Salice Salentino Riserva 2010', 'Leone de Castris Salice Salentino Riserva 2011', 'Leone de Castris Salice Salentino Riserva 2014', 'Leone de Castris Salice Salentino Riserva 2015', 'Leonetti Cabernet Sauvignon (1.5 Liter Magnum) 2014', 'Leonetti Cabernet Sauvignon (damaged label) 2007', 'Leonetti Cabernet Sauvignon (damaged label) 2009', 'Leonetti Cabernet Sauvignon 1994', 'Leonetti Cabernet Sauvignon 1995', 'Leonetti Cabernet Sauvignon 1997', 'Leonetti Cabernet Sauvignon 1998', 'Leonetti Cabernet Sauvignon 2000', 'Leonetti Cabernet Sauvignon 2001', 'Leonetti Cabernet Sauvignon 2005', 'Leonetti Cabernet Sauvignon 2010', 'Leonetti Cabernet Sauvignon 2011', 'Leonetti Cabernet Sauvignon 2012', 'Leonetti Cabernet Sauvignon 2013', 'Leonetti Cabernet Sauvignon 2014', 'Leonetti Cabernet Sauvignon 2015', 'Leonetti Merlot (loose foil capsule) 2000', 'Leonetti Merlot (scuffed labels) 2011', 'Leonetti Merlot 1993', 'Leonetti Merlot 1995', 'Leonetti Merlot 1997', 'Leonetti Merlot 1998', 'Leonetti Merlot 1999', 'Leonetti Merlot 2001', 'Leonetti Merlot 2003', 'Leonetti Merlot 2004', 'Leonetti Merlot 2005', 'Leonetti Merlot 2006', 'Leonetti Merlot 2007', 'Leonetti Merlot 2008', 'Leonetti Merlot 2010', 'Leonetti Merlot 2012', 'Leonetti Merlot 2013', 'Leonetti Merlot 2014', 'Leonetti Merlot 2015', 'Leonetti Merlot 2016', 'Leonetti Reserve (torn label) 2007', 'Leonetti Reserve (torn label) 2008', 'Leonetti Reserve 1998', 'Leonetti Reserve 2000', 'Leonetti Reserve 2002', 'Leonetti Reserve 2005', 'Leonetti Reserve 2006', 'Leonetti Reserve 2011', 'Leonetti Reserve 2012', 'Leonetti Reserve 2013', 'Leonetti Reserve 2014', 'Leonetti Reserve 2015', 'Leonetti Sangiovese 2000', 'Leonetti Sangiovese 2005', 'Leonetti Sangiovese 2006', 'Leonetti Sangiovese 2007', 'Leonetti Sangiovese 2008', 'Leonetti Sangiovese 2009', 'Leonetti Sangiovese 2010', 'Leonetti Sangiovese 2011', 'Leonetti Sangiovese 2012', 'Leonetti Sangiovese 2013', 'Leonetti Sangiovese 2014', 'Leonetti Seven Hills Vineyard Reserve Cabernet Sauvignon 1996', 'Les Alexandrins Cornas 2016', 'Les Alexandrins Domaine Crozes-Hermitage 2016', 'Les Alexandrins Domaine Saint-Joseph 2015', 'Les Alexandrins Domaine Saint-Joseph 2016', 'Les Alexandrins Maison Crozes-Hermitage 2016', 'Les Alexandrins Syrah 2018', \"Les Alexandrins Terrasses de l'Eridan Cotes du Rhone Rouge 2017\", 'Les Asteries 2005', 'Les Asteries 2007', 'Les Asteries 2008', 'Les Asteries 2009', 'Les Asteries 2010', 'Les Asteries 2011', \"Les Clefs d'Or Les Craus Centenaires 2009\", \"Les Clefs d'Or Les Craus Centenaires 2010\", \"Les Clefs d'Or Les Craus Centenaires 2015\", 'Les Cretes Coteau La Tour 2008', 'Les Cretes Le Sommet Nebbiolo 2016', 'Les Forts de Latour 1996', 'Les Forts de Latour 1999', 'Les Forts de Latour 2000', 'Les Forts de Latour 2001', 'Les Forts de Latour 2005', 'Les Forts de Latour 2008', 'Les Forts de Latour 2009', 'Les Garrigues Cotes du Rhone 2017', 'Les Halos de Jupiter Chateauneuf-du-Pape 2009', 'Les Halos de Jupiter Chateauneuf-du-Pape Adrastee 2009', 'Les Halos de Jupiter Cotes du Rhone 2010', \"Les Vignerons d'Estezargues La Granacha Cotes du Rhone Villages Signargues 2007\", \"Les Vignerons d'Estezargues La Granacha Cotes du Rhone Villages Signargues 2008\", \"Les Vignerons d'Estezargues La Granacha Cotes du Rhone Villages Signargues 2009\", 'Les Vignerons de Tautavel Cotes du Roussillon Villages Tautavel Silex 2012', 'Les Vignes Oubliées Coteaux du Languedoc Terrasses du Larzac 2014', 'Levendi River South Ranch Pinot Noir 2013', 'Levendi Stagecoach Cabernet Sauvignon 2008', 'Levet La Chavaroche Cote Rotie 2013', 'Levet Les Journaries Cote Rotie 2010', 'Leviathan (1.5 Liter Magnum) 2016', 'Leviathan 2010', 'Leviathan 2011', 'Levy & McClellan Proprietary Red 2004', 'Levy & McClellan Proprietary Red 2005', 'Lewelling Cabernet Sauvignon 2000', 'Lewelling Cabernet Sauvignon 2001', 'Lewelling Cabernet Sauvignon 2005', 'Lewelling Cabernet Sauvignon 2006', 'Lewelling Cabernet Sauvignon 2007', 'Lewelling Cabernet Sauvignon 2009', 'Lewelling Cabernet Sauvignon 2010', 'Lewelling Cabernet Sauvignon 2012', 'Lewelling Wight Vineyard Cabernet Sauvignon 2003', 'Lewelling Wight Vineyard Cabernet Sauvignon 2005', 'Lewelling Wight Vineyard Cabernet Sauvignon 2006', 'Lewelling Wight Vineyard Cabernet Sauvignon 2007', 'Lewelling Wight Vineyard Cabernet Sauvignon 2008', 'Lewelling Wight Vineyard Cabernet Sauvignon 2009', 'Lewelling Wight Vineyard Cabernet Sauvignon 2010', \"Lewis Cellars Alec's Blend Red 2002\", \"Lewis Cellars Alec's Blend Red 2003\", \"Lewis Cellars Alec's Blend Red 2005\", \"Lewis Cellars Alec's Blend Red 2007\", \"Lewis Cellars Alec's Blend Red 2009\", \"Lewis Cellars Alec's Blend Red 2010\", \"Lewis Cellars Alec's Blend Red 2013\", \"Lewis Cellars Alec's Blend Red 2014\", \"Lewis Cellars Alec's Blend Red 2017\", 'Lewis Cellars Cabernet Sauvignon 2002', 'Lewis Cellars Cabernet Sauvignon 2004', 'Lewis Cellars Cabernet Sauvignon 2005', 'Lewis Cellars Cabernet Sauvignon 2012', 'Lewis Cellars Cabernet Sauvignon 2013', 'Lewis Cellars Cabernet Sauvignon 2014', 'Lewis Cellars Cabernet Sauvignon 2015', 'Lewis Cellars Cabernet Sauvignon 2017', 'Lewis Cellars Cuvee L 2005', 'Lewis Cellars Cuvee L 2006', 'Lewis Cellars Cuvee L Cabernet Sauvignon 2014', 'Lewis Cellars Cuvee L Cabernet Sauvignon 2015', 'Lewis Cellars Hillstone Vineyard Cabernet Sauvignon 2014', 'Lewis Cellars Hudson Vineyards Syrah 2006', \"Lewis Cellars Mason's Cabernet Sauvignon 2003\", \"Lewis Cellars Mason's Cabernet Sauvignon 2015\", \"Lewis Cellars Mason's Cabernet Sauvignon 2018\", 'Lewis Cellars Merlot 2000', 'Lewis Cellars Napa Valley Syrah 2006', 'Lewis Cellars Napa Valley Syrah 2007', 'Lewis Cellars Reserve Cabernet Sauvignon (1.5 Liter Magnum) 2011', 'Lewis Cellars Reserve Cabernet Sauvignon (1.5 Liter Magnum) 2016', 'Lewis Cellars Reserve Cabernet Sauvignon (1.5L Magnum) 2004', 'Lewis Cellars Reserve Cabernet Sauvignon (scuffed labels) 2012', 'Lewis Cellars Reserve Cabernet Sauvignon 1995', 'Lewis Cellars Reserve Cabernet Sauvignon 2000', 'Lewis Cellars Reserve Cabernet Sauvignon 2005', 'Lewis Cellars Reserve Cabernet Sauvignon 2006', 'Lewis Cellars Reserve Cabernet Sauvignon 2007', 'Lewis Cellars Reserve Cabernet Sauvignon 2008', 'Lewis Cellars Reserve Cabernet Sauvignon 2009', 'Lewis Cellars Reserve Cabernet Sauvignon 2010', 'Lewis Cellars Reserve Cabernet Sauvignon 2011', 'Lewis Cellars Reserve Cabernet Sauvignon 2014', 'Lewis Cellars Reserve Cabernet Sauvignon 2015', 'Lewis Cellars Reserve Cabernet Sauvignon 2016', 'Lewis Cellars Reserve Merlot 1995', \"Lewis Cellars Syrah Ethan's Blend 2005\", \"Lewis Cellars Syrah Ethan's Blend 2009\", \"Lewis Cellars Syrah Ethan's Blend 2014\", 'Lexington Apex Red 2011', 'Lexington Gist Ranch Cabernet Sauvignon 2011']\n",
      "dict_keys(['Lava Vine Winery Napa Valley Cabernet Sauvignon 2014', 'Lava Vine Winery Napa Valley Reserve Cabernet Sauvignon 2012', 'Lava Vine Winery Napa Valley Reserve Cabernet Sauvignon 2013', 'Leaping Lizard Cabernet Sauvignon 2007', 'Levendi Stagecoach Cabernet Sauvignon 2008', 'Levendi Sweeney Ranch Chardonnay 2010', 'Levy & McClellan Proprietary Red 2004', 'Levy & McClellan Proprietary Red 2005', 'Lewelling Cabernet Sauvignon 2000', 'Lewelling Cabernet Sauvignon 2005', 'Lewelling Cabernet Sauvignon 2001', 'Lewelling Cabernet Sauvignon 2006', 'Lewelling Cabernet Sauvignon 2007', 'Lewelling Cabernet Sauvignon 2009', 'Lewelling Cabernet Sauvignon 2010', 'Lewelling Cabernet Sauvignon 2012', 'Lewelling Wight Vineyard Cabernet Sauvignon 2003', 'Lewelling Wight Vineyard Cabernet Sauvignon 2005', 'Lewelling Wight Vineyard Cabernet Sauvignon 2006', 'Lewelling Wight Vineyard Cabernet Sauvignon 2009', 'Lewelling Wight Vineyard Cabernet Sauvignon 2008', 'Lewelling Wight Vineyard Cabernet Sauvignon 2007', 'Lewelling Wight Vineyard Cabernet Sauvignon 2010', \"Lewis Cellars Alec's Blend Red 2002\", \"Lewis Cellars Alec's Blend Red 2003\", \"Lewis Cellars Alec's Blend Red 2007\", \"Lewis Cellars Alec's Blend Red 2009\", \"Lewis Cellars Alec's Blend Red 2005\", \"Lewis Cellars Alec's Blend Red 2010\", \"Lewis Cellars Alec's Blend Red 2014\", \"Lewis Cellars Alec's Blend Red 2013\", \"Lewis Cellars Alec's Blend Red 2017\", 'Lewis Cellars Cabernet Sauvignon 2002', 'Lewis Cellars Cabernet Sauvignon 2004', 'Lewis Cellars Cabernet Sauvignon 2005', 'Lewis Cellars Cabernet Sauvignon 2012', 'Lewis Cellars Cabernet Sauvignon 2015', 'Lewis Cellars Cabernet Sauvignon 2014', 'Lewis Cellars Cabernet Sauvignon 2013', 'Lewis Cellars Cabernet Sauvignon 2017', 'Lewis Cellars Cuvee L 2005', 'Lewis Cellars Cuvee L 2006', 'Lewis Cellars Cuvee L Cabernet Sauvignon 2014', 'Lewis Cellars Cuvee L Cabernet Sauvignon 2015', 'Lewis Cellars Hillstone Vineyard Cabernet Sauvignon 2014', 'Lewis Cellars Hudson Vineyards Syrah 2006', \"Lewis Cellars Mason's Cabernet Sauvignon 2003\", \"Lewis Cellars Mason's Cabernet Sauvignon 2015\", \"Lewis Cellars Mason's Cabernet Sauvignon 2018\", 'Lewis Cellars Merlot 2000', 'Lewis Cellars Napa Valley Chardonnay 2008', 'Lewis Cellars Napa Valley Chardonnay 2015', 'Lewis Cellars Napa Valley Chardonnay 2014', 'Lewis Cellars Napa Valley Chardonnay 2016', 'Lewis Cellars Napa Valley Syrah 2006', 'Lewis Cellars Napa Valley Syrah 2007', 'Lewis Cellars Reserve Cabernet Sauvignon (1.5 Liter Magnum) 2011', 'Lewis Cellars Reserve Cabernet Sauvignon (1.5 Liter Magnum) 2016', 'Lewis Cellars Reserve Cabernet Sauvignon (1.5L Magnum) 2004', 'Lewis Cellars Reserve Cabernet Sauvignon 1995', 'Lewis Cellars Reserve Cabernet Sauvignon 2000', 'Lewis Cellars Reserve Cabernet Sauvignon 2005', 'Lewis Cellars Reserve Cabernet Sauvignon 2006', 'Lewis Cellars Reserve Cabernet Sauvignon 2007', 'Lewis Cellars Reserve Cabernet Sauvignon 2008', 'Lewis Cellars Reserve Cabernet Sauvignon 2009', 'Lewis Cellars Reserve Cabernet Sauvignon 2010', 'Lewis Cellars Reserve Cabernet Sauvignon 2011', 'Lewis Cellars Reserve Cabernet Sauvignon 2015', 'Lewis Cellars Reserve Cabernet Sauvignon 2014', 'Lewis Cellars Reserve Cabernet Sauvignon 2016', 'Lewis Cellars Reserve Cabernet Sauvignon (scuffed labels) 2012', 'Lewis Cellars Reserve Chardonnay 2008', 'Lewis Cellars Reserve Chardonnay 2015', 'Lewis Cellars Reserve Chardonnay 2018', 'Lewis Cellars Reserve Chardonnay 2017', 'Lewis Cellars Reserve Merlot 1995', 'Lewis Cellars Sauvignon Blanc 2016', 'Lewis Cellars Sauvignon Blanc 2018'])\n"
     ]
    }
   ],
   "source": [
    "dict_data = df.to_dict()\n",
    "# You'll get several keys, one for each column in the dataframe. You can access the values of a column by using the column name as a key. You'll also\n",
    "# get the index of each row as a key. You can access the values of a row by using the index as a key.\n",
    "\n",
    "#Getting only wines with rating bigger than 96, red wines and wines from Napa Valley\n",
    "red_wines={}\n",
    "top_wines = {}\n",
    "napa_wines = {}\n",
    "print(\"Best Ratings:\")\n",
    "for idx  in dict_data['rating']:\n",
    "    rating = float(dict_data['rating'][idx])\n",
    "    name = dict_data['name'][idx]\n",
    "    variety = dict_data['variety'][idx]\n",
    "    notes = dict_data['notes'][idx]\n",
    "    region = dict_data['region'][idx]\n",
    "\n",
    "    if rating > 96:\n",
    "        top_wines[name] = [rating, region, variety, notes]\n",
    "        print(name,rating)\n",
    "    if variety == 'Red Wine':\n",
    "        red_wines[name] = [rating, region, variety, notes]\n",
    "    if 'Napa' in region:\n",
    "        napa_wines[name] = [rating, region, variety, notes]\n",
    "\n",
    "sorted_red = red_wines.keys()\n",
    "sorted_red=sorted(sorted_red)\n",
    "print(sorted_red)\n",
    "print(napa_wines.keys())\n",
    "\n"
   ]
  },
  {
   "cell_type": "code",
   "execution_count": 10,
   "metadata": {},
   "outputs": [],
   "source": [
    "import json \n",
    "\n",
    "with open('reds.json','w') as file: \n",
    "    json.dump(red_wines, file, indent=4 )\n",
    "\n",
    "with open('tops.json','w') as file: \n",
    "    json.dump(top_wines, file, indent=4 )\n",
    "\n",
    "with open('napas.json','w') as file: \n",
    "    json.dump(napa_wines, file, indent=4 )"
   ]
  }
 ],
 "metadata": {
  "kernelspec": {
   "display_name": "Python 3",
   "language": "python",
   "name": "python3"
  },
  "language_info": {
   "codemirror_mode": {
    "name": "ipython",
    "version": 3
   },
   "file_extension": ".py",
   "mimetype": "text/x-python",
   "name": "python",
   "nbconvert_exporter": "python",
   "pygments_lexer": "ipython3",
   "version": "3.12.6"
  },
  "orig_nbformat": 4
 },
 "nbformat": 4,
 "nbformat_minor": 2
}
